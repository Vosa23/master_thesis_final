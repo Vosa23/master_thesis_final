{
  "nbformat": 4,
  "nbformat_minor": 0,
  "metadata": {
    "colab": {
      "name": "CNN-model_for_sensors.ipynb",
      "provenance": [],
      "collapsed_sections": []
    },
    "kernelspec": {
      "name": "python3",
      "display_name": "Python 3"
    },
    "accelerator": "GPU"
  },
  "cells": [
    {
      "cell_type": "markdown",
      "metadata": {
        "id": "9XHd5ExbUIUg"
      },
      "source": [
        "# CNN Training for the image -> sensors prediction (Hybrid architecture)\n",
        "\n",
        "64x64x3 -> 20 vector of sensoric values (angle and track lidar sensor)\n",
        "\n",
        "VUT FIT 2022\n",
        "Master thesis - Application of Reinforcement Learning in Autonomous Driving\n",
        "\n",
        "David Vosol (xvosol00)"
      ]
    },
    {
      "cell_type": "code",
      "metadata": {
        "id": "Su0COdCqT2Wk",
        "colab": {
          "base_uri": "https://localhost:8080/"
        },
        "outputId": "b9855ce4-e775-4247-b54e-304947dd97c9"
      },
      "source": [
        "import pandas as pd\n",
        "import pickle\n",
        "import torch\n",
        "import torch.nn as nn\n",
        "import torch.nn.functional as F\n",
        "import torchvision\n",
        "import torchvision.transforms as transforms\n",
        "import numpy as np\n",
        "from torch.utils.data import (\n",
        "    Dataset,\n",
        "    DataLoader,\n",
        ")\n",
        "\n",
        "print(torch.__version__)"
      ],
      "execution_count": 1,
      "outputs": [
        {
          "output_type": "stream",
          "name": "stdout",
          "text": [
            "1.11.0+cu113\n"
          ]
        }
      ]
    },
    {
      "cell_type": "markdown",
      "metadata": {
        "id": "hhuQyU7AYE6K"
      },
      "source": [
        "## Importing the Data\n"
      ]
    },
    {
      "cell_type": "code",
      "source": [
        "from google.colab import drive\n",
        "drive.mount('/content/drive')"
      ],
      "metadata": {
        "id": "4MSDk50bmx7I",
        "outputId": "6a6ee1ec-3af5-47b3-ecf5-fe67bb4414aa",
        "colab": {
          "base_uri": "https://localhost:8080/"
        }
      },
      "execution_count": null,
      "outputs": [
        {
          "output_type": "stream",
          "name": "stdout",
          "text": [
            "Mounted at /content/drive\n"
          ]
        }
      ]
    },
    {
      "cell_type": "code",
      "source": [
        "#DVO dataset\n",
        "\n",
        "\n",
        "class CustomDataset(Dataset):\n",
        "    def __init__(self, root_dir, transform=None):\n",
        "      self.len = 0\n",
        "      with open(root_dir, 'rb') as pkl:\n",
        "        try:\n",
        "          self.dataset_dict = pickle.load(pkl)\n",
        "          self.labels = torch.stack(self.dataset_dict['labels']).squeeze(1)\n",
        "          self.images = torch.stack(self.dataset_dict['data']).squeeze(1)\n",
        "\n",
        "          self.len += len(self.dataset_dict['labels'])  \n",
        "          print( len(self.dataset_dict['labels']) )\n",
        "\n",
        "          while True:\n",
        "            \n",
        "            self.dataset_dict = pickle.load(pkl)\n",
        "            \n",
        "            self.labels = torch.cat( ( self.labels, torch.stack(self.dataset_dict['labels']).squeeze(1) ) )\n",
        "            self.images = torch.cat( ( self.images, torch.stack(self.dataset_dict['data']).squeeze(1) ) )\n",
        "            self.len += len(self.dataset_dict['labels'])\n",
        "            \n",
        "            print('total_size:: ', self.len)\n",
        "            print( len(self.dataset_dict['labels']) )\n",
        "        \n",
        "        except EOFError:\n",
        "          print('dataset was read')\n",
        "          print('total_size:: ', self.len)\n",
        "\n",
        "        print('labels shape:: ', self.labels.shape)\n",
        "        print('images shape:: ', self.images.shape)\n",
        "        print('images[0].shape:: ', self.images[0].shape)\n",
        "\n",
        "        \n",
        "        self.root_dir = root_dir\n",
        "        self.transform = transform\n",
        "\n",
        "\n",
        "    def __len__(self):\n",
        "        return self.len\n",
        "\n",
        "    def __getitem__(self, index):\n",
        "\n",
        "        image = self.images[index]\n",
        "        label = self.labels[index]\n",
        "        \n",
        "        #already normalized \n",
        "        if self.transform:\n",
        "            image = self.transform(image)\n",
        "\n",
        "        return (image, label)\n",
        "\n",
        "\n"
      ],
      "metadata": {
        "id": "As_rnh1wfyhy"
      },
      "execution_count": null,
      "outputs": []
    },
    {
      "cell_type": "code",
      "source": [
        "# Hyperparameters\n",
        "# in_channel = 3\n",
        "# num_classes = 2\n",
        "# num_epochs = 10\n",
        "learning_rate = 1e-3\n",
        "batch_size = 32\n",
        "\n",
        "\n",
        "# Load Data\n",
        "dataset = CustomDataset(\n",
        "    root_dir='/content/drive/MyDrive/DAVID/DP/models/pickled_samples_nn_128_rwd2_snrs_eroad.pkl',\n",
        "    transform=None, #transforms.ToTensor()\n",
        ")\n",
        "\n",
        "\n",
        "\n",
        "#Loading the dataset\n",
        "# train_set, test_set = torch.utils.data.random_split(dataset, [train_size, test_size])\n",
        "# train_loader = DataLoader(dataset=train_set, batch_size=batch_size, shuffle=True)\n",
        "# test_loader = DataLoader(dataset=test_set, batch_size=batch_size, shuffle=True)\n"
      ],
      "metadata": {
        "id": "MGpjVQXo-Q36"
      },
      "execution_count": null,
      "outputs": []
    },
    {
      "cell_type": "code",
      "source": [
        "#Loading the dataset\n",
        "\n",
        "train_size = int(np.ceil(( dataset.__len__() ) * 8.0 / 10))\n",
        "test_size = int(np.floor((dataset.__len__() ) * 2.0 / 10))\n",
        "\n",
        "train_set, test_set = torch.utils.data.random_split(dataset, [train_size, test_size], generator=torch.Generator().manual_seed(42))\n",
        "\n",
        "\n",
        "train_loader = DataLoader(dataset=train_set, batch_size=batch_size, shuffle=True)\n",
        "test_loader = DataLoader(dataset=test_set, batch_size=batch_size, shuffle=True)\n",
        "\n",
        "\n",
        "print(train_set[0])"
      ],
      "metadata": {
        "id": "sHrLR2CT11JM",
        "outputId": "b9368135-e755-454f-c308-7d77e8febb96",
        "colab": {
          "base_uri": "https://localhost:8080/"
        }
      },
      "execution_count": null,
      "outputs": [
        {
          "output_type": "stream",
          "name": "stdout",
          "text": [
            "(tensor([[[0.3686, 0.3725, 0.3765,  ..., 0.3843, 0.3804, 0.3765],\n",
            "         [0.3725, 0.3725, 0.3765,  ..., 0.3843, 0.3765, 0.3804],\n",
            "         [0.3725, 0.3725, 0.3765,  ..., 0.3765, 0.3765, 0.3804],\n",
            "         ...,\n",
            "         [0.6314, 0.6353, 0.6275,  ..., 0.5569, 0.5608, 0.5686],\n",
            "         [0.6392, 0.6275, 0.6196,  ..., 0.5412, 0.5451, 0.5490],\n",
            "         [0.5922, 0.5843, 0.5725,  ..., 0.5216, 0.5294, 0.5333]],\n",
            "\n",
            "        [[0.3686, 0.3725, 0.3765,  ..., 0.3843, 0.3804, 0.3765],\n",
            "         [0.3725, 0.3725, 0.3765,  ..., 0.3843, 0.3765, 0.3804],\n",
            "         [0.3725, 0.3725, 0.3765,  ..., 0.3765, 0.3765, 0.3804],\n",
            "         ...,\n",
            "         [0.6745, 0.6784, 0.6784,  ..., 0.6863, 0.6902, 0.6980],\n",
            "         [0.6980, 0.6941, 0.6863,  ..., 0.6706, 0.6745, 0.6824],\n",
            "         [0.6824, 0.6745, 0.6706,  ..., 0.6549, 0.6588, 0.6667]],\n",
            "\n",
            "        [[0.3569, 0.3608, 0.3647,  ..., 0.3725, 0.3686, 0.3647],\n",
            "         [0.3608, 0.3608, 0.3647,  ..., 0.3686, 0.3647, 0.3686],\n",
            "         [0.3608, 0.3608, 0.3647,  ..., 0.3647, 0.3647, 0.3686],\n",
            "         ...,\n",
            "         [0.7490, 0.7569, 0.7608,  ..., 0.8392, 0.8431, 0.8471],\n",
            "         [0.7843, 0.7882, 0.7882,  ..., 0.8314, 0.8314, 0.8353],\n",
            "         [0.7961, 0.8000, 0.8000,  ..., 0.8196, 0.8235, 0.8275]]]), tensor([ 0.0162,  0.0682,  0.1082,  0.1262,  0.1419,  0.1546,  0.1625,  0.1673,\n",
            "         0.1719,  0.1754,  0.1792,  0.1833,  0.1877,  0.1946,  0.2038,  0.2269,\n",
            "         0.4611,  0.4177,  0.3356,  0.0430, -0.1128]))\n"
          ]
        }
      ]
    },
    {
      "cell_type": "code",
      "source": [
        "print(train_set[0][1])\n",
        "print(train_set[1][1])\n",
        "print(train_set[2][1])"
      ],
      "metadata": {
        "colab": {
          "base_uri": "https://localhost:8080/"
        },
        "id": "HnEFGJ04_X1-",
        "outputId": "9660a716-57b5-49f3-8855-ce7694be8c9a"
      },
      "execution_count": null,
      "outputs": [
        {
          "output_type": "stream",
          "name": "stdout",
          "text": [
            "tensor([ 0.0162,  0.0682,  0.1082,  0.1262,  0.1419,  0.1546,  0.1625,  0.1673,\n",
            "         0.1719,  0.1754,  0.1792,  0.1833,  0.1877,  0.1946,  0.2038,  0.2269,\n",
            "         0.4611,  0.4177,  0.3356,  0.0430, -0.1128])\n",
            "tensor([-0.0126,  0.0680,  0.0970,  0.1101,  0.1214,  0.1289,  0.1329,  0.1351,\n",
            "         0.1371,  0.1385,  0.1400,  0.1414,  0.1429,  0.1450,  0.1475,  0.1521,\n",
            "         0.1620,  0.1796,  0.2082,  0.0423, -0.1978])\n",
            "tensor([-0.0137,  0.0506,  0.4542,  0.3521,  0.2880,  0.2542,  0.2387,  0.2309,\n",
            "         0.2243,  0.2196,  0.2151,  0.2107,  0.2064,  0.2006,  0.1942,  0.1828,\n",
            "         0.1627,  0.1359,  0.1091,  0.0621,  0.0412])\n"
          ]
        }
      ]
    },
    {
      "cell_type": "code",
      "source": [
        "print(dataset.images[9008][0][39])"
      ],
      "metadata": {
        "colab": {
          "base_uri": "https://localhost:8080/"
        },
        "id": "E3-2wWNDY-Pe",
        "outputId": "587dd575-8b09-4684-94ca-7ea811c784e4"
      },
      "execution_count": null,
      "outputs": [
        {
          "output_type": "stream",
          "name": "stdout",
          "text": [
            "tensor([0.1255, 0.2471, 0.3059, 0.3882, 0.2431, 0.2275, 0.2314, 0.2392, 0.2392,\n",
            "        0.2275, 0.2353, 0.2314, 0.2157, 0.2314, 0.2392, 0.2431, 0.2275, 0.2275,\n",
            "        0.2314, 0.2392, 0.2353, 0.2314, 0.2275, 0.2314, 0.2275, 0.2275, 0.2275,\n",
            "        0.2275, 0.2353, 0.2353, 0.2275, 0.2275, 0.2353, 0.2353, 0.2353, 0.2353,\n",
            "        0.2314, 0.2353, 0.2353, 0.2353, 0.2314, 0.2314, 0.2275, 0.2353, 0.2275,\n",
            "        0.2275, 0.2275, 0.2353, 0.2275, 0.2314, 0.2314, 0.2353, 0.2314, 0.2353,\n",
            "        0.2235, 0.2510, 0.2627, 0.2706, 0.2863, 0.3098, 0.4275, 0.5294, 0.3882,\n",
            "        0.1765])\n"
          ]
        }
      ]
    },
    {
      "cell_type": "markdown",
      "metadata": {
        "id": "0nZwZukWXUDn"
      },
      "source": [
        "## The Data\n",
        "visual example - does not matter that the image is inverted, it is the same during the TORCS experiments.\n",
        "\n",
        "The agent does not care, as long as it is the same everywhere"
      ]
    },
    {
      "cell_type": "code",
      "metadata": {
        "id": "zWd9Pt1Ca6K9",
        "outputId": "f3edd27a-ae82-4df2-ab45-f5b9d4ff8d88",
        "colab": {
          "base_uri": "https://localhost:8080/",
          "height": 220
        }
      },
      "source": [
        "import matplotlib.pyplot as plt\n",
        "import numpy as np\n",
        "\n",
        "## functions to show an image\n",
        "def imshow(img):\n",
        "    npimg = img.numpy()\n",
        "    plt.imshow(np.transpose(npimg, (1, 2, 0)))\n",
        "\n",
        "## get some random training images\n",
        "dataiter = iter(train_loader)\n",
        "images, labels = dataiter.next()\n",
        "\n",
        "## show images\n",
        "imshow(torchvision.utils.make_grid(images))"
      ],
      "execution_count": null,
      "outputs": [
        {
          "output_type": "display_data",
          "data": {
            "text/plain": [
              "<Figure size 432x288 with 1 Axes>"
            ],
            "image/png": "[encoded data removed]"
          },
          "metadata": {
            "needs_background": "light"
          }
        }
      ]
    },
    {
      "cell_type": "code",
      "source": [
        "img_ = dataset.images[3060]\n",
        "\n",
        "imshow(img_)"
      ],
      "metadata": {
        "colab": {
          "base_uri": "https://localhost:8080/",
          "height": 268
        },
        "id": "KTl3AAKKjgvY",
        "outputId": "175f919b-0b49-4621-9060-7e84d0c75277"
      },
      "execution_count": null,
      "outputs": [
        {
          "output_type": "display_data",
          "data": {
            "text/plain": [
              "<Figure size 432x288 with 1 Axes>"
            ],
            "image/png": "[encoded data removed]"
          },
          "metadata": {
            "needs_background": "light"
          }
        }
      ]
    },
    {
      "cell_type": "markdown",
      "metadata": {
        "id": "d9mXAVmRvhrq"
      },
      "source": [
        "Dimensions of a batch."
      ]
    },
    {
      "cell_type": "code",
      "metadata": {
        "id": "cNFKWz1GZ4R5",
        "outputId": "e3c7ecbe-2bd1-451d-e08f-b1a5473ecba4",
        "colab": {
          "base_uri": "https://localhost:8080/"
        }
      },
      "source": [
        "for images, labels in train_loader:\n",
        "    print(\"Image batch dimensions:\", images.shape)\n",
        "    print(\"Image label dimensions:\", labels.shape)\n",
        "    break"
      ],
      "execution_count": null,
      "outputs": [
        {
          "output_type": "stream",
          "name": "stdout",
          "text": [
            "Image batch dimensions: torch.Size([32, 3, 64, 64])\n",
            "Image label dimensions: torch.Size([32, 21])\n"
          ]
        }
      ]
    },
    {
      "cell_type": "markdown",
      "metadata": {
        "id": "tmaCTw5tXowR"
      },
      "source": [
        "## The Model\n"
      ]
    },
    {
      "cell_type": "code",
      "metadata": {
        "id": "_IYnV4ZBa3cJ"
      },
      "source": [
        "class CnnToSensors(nn.Module):\n",
        "    def __init__(self):\n",
        "        super(CnnToSensors, self).__init__()\n",
        "\n",
        "        self.conv1 = nn.Conv2d(3, 6, 5, 1, 2)\n",
        "        self.pool2 = nn.AvgPool2d(2, 2) \n",
        "        self.conv11 = nn.Conv2d(6, 12, 5, 1, 2)\n",
        "        self.pool4 = nn.AvgPool2d(2, 2)\n",
        "        self.conv2= nn.Conv2d(12, 24, 5, 1, 2)\n",
        "        # self.pool44 = nn.AvgPool2d(2, 2)\n",
        "        # if img_num == 2:\n",
        "        #     self.fc2 = nn.Linear(1344, hidden_cnn)\n",
        "        # else:\n",
        "        self.fc2 = nn.Linear(1536, 512)\n",
        "        self.fc3 = nn.Linear(512, labels[0].shape[-1])\n",
        "\n",
        "    def forward(self, x):\n",
        "        x = self.pool2(F.relu(self.conv1(x)))\n",
        "        x = self.pool2(F.relu(self.conv11(x)))\n",
        "        x = self.pool4(F.relu(self.conv2(x)))\n",
        "        x = torch.flatten(x, 1) # flatten all dimensions except batch\n",
        "        x = F.relu(self.fc2(x))\n",
        "        x = self.fc3(x)\n",
        "\n",
        "        return x"
      ],
      "execution_count": null,
      "outputs": []
    },
    {
      "cell_type": "markdown",
      "metadata": {
        "id": "evsFbkq_X6bc"
      },
      "source": [
        "Testing the model with 1 batch to ensure that the output dimensions are correct"
      ]
    },
    {
      "cell_type": "code",
      "metadata": {
        "id": "1poxFYqftKov",
        "outputId": "9dcd5504-d8d8-4b10-99ed-d32384d36b57",
        "colab": {
          "base_uri": "https://localhost:8080/"
        }
      },
      "source": [
        "## test the model with 1 batch\n",
        "model = CnnToSensors()\n",
        "for images, labels in train_loader:\n",
        "    print(\"batch size:\", images.shape)\n",
        "    out = model(images)\n",
        "    # print(out.shape)\n",
        "    break"
      ],
      "execution_count": null,
      "outputs": [
        {
          "output_type": "stream",
          "name": "stdout",
          "text": [
            "batch size: torch.Size([32, 3, 64, 64])\n"
          ]
        }
      ]
    },
    {
      "cell_type": "markdown",
      "metadata": {
        "id": "9h_3eZQRHV_P"
      },
      "source": [
        "## Training hyperparameters"
      ]
    },
    {
      "cell_type": "code",
      "metadata": {
        "id": "3_0Vjq2RHlph"
      },
      "source": [
        "learning_rate = 0.001\n",
        "num_epochs = 200\n",
        "\n",
        "device = torch.device(\"cuda:0\" if torch.cuda.is_available() else \"cpu\")\n",
        "model = CnnToSensors()\n",
        "model = model.to(device)\n",
        "criterion = nn.MSELoss()\n",
        "optimizer = torch.optim.Adam(model.parameters(), lr=learning_rate)"
      ],
      "execution_count": null,
      "outputs": []
    },
    {
      "cell_type": "markdown",
      "source": [
        "The Accuracy performance measure"
      ],
      "metadata": {
        "id": "bnCjG0Hp3Gaf"
      }
    },
    {
      "cell_type": "code",
      "metadata": {
        "id": "44IdrNNeIi_I",
        "colab": {
          "base_uri": "https://localhost:8080/"
        },
        "outputId": "569ffa10-44dd-4d77-9811-90a828e65464"
      },
      "source": [
        "import numpy as np\n",
        "\n",
        "def get_percentage_diff(previous, current, BATCH_SIZE):\n",
        "    try:\n",
        "        percentage = abs(previous - current)/((previous + current)/2) *100\n",
        "    except ZeroDivisionError:\n",
        "        percentage = float('inf')\n",
        "    return abs(percentage).mean() #/ BATCH_SIZE\n",
        "    \n",
        "a = np.array([[1.23,0.3],[0.25,-0.18]])\n",
        "b = np.array([[1.05,0.5],[0.85,-1.08]])\n",
        "\n",
        "diff = get_percentage_diff(a,b, 2)\n",
        "\n",
        "print(diff)"
      ],
      "execution_count": null,
      "outputs": [
        {
          "output_type": "stream",
          "name": "stdout",
          "text": [
            "79.43438140806562\n"
          ]
        }
      ]
    },
    {
      "cell_type": "markdown",
      "metadata": {
        "id": "nK3EcuIOISSR"
      },
      "source": [
        "# **Training session**"
      ]
    },
    {
      "cell_type": "code",
      "metadata": {
        "id": "E59hwZlAIVcL",
        "outputId": "2ae2549f-f01d-48d2-e648-977066e46c50",
        "colab": {
          "base_uri": "https://localhost:8080/"
        }
      },
      "source": [
        "for epoch in range(num_epochs):\n",
        "    train_running_loss = 0.0\n",
        "    train_acc = 0.0\n",
        "\n",
        "    model = model.train()\n",
        "\n",
        "    ## training step\n",
        "    for i, (images, labels) in enumerate(train_loader):\n",
        "        \n",
        "        images = images.to(device)\n",
        "        labels = labels.to(device)\n",
        "\n",
        "        ## forward + backprop + loss\n",
        "        logits = model(images)\n",
        "        loss = criterion(logits, labels)\n",
        "        optimizer.zero_grad()\n",
        "        loss.backward()\n",
        "\n",
        "        ## update model params\n",
        "        optimizer.step()\n",
        "\n",
        "        train_running_loss += loss.detach().item()\n",
        "        train_acc += get_percentage_diff(labels, logits, batch_size)\n",
        "    \n",
        "    model.eval()\n",
        "    print('Epoch: %d | Loss: %.4f' \\\n",
        "          %(epoch, train_running_loss / i))\n",
        "\n",
        "    print( 'Acc::', train_acc/i )    \n",
        "\n",
        "    test_acc = 0.0\n",
        "    for i, (images, labels) in enumerate(test_loader, 0):\n",
        "        images = images.to(device)\n",
        "        labels = labels.to(device)\n",
        "        outputs = model(images)\n",
        "        test_acc += get_percentage_diff(labels, outputs, batch_size)\n",
        "        \n",
        "    print('Test Accuracy::', test_acc/i )\n",
        "\n",
        "    #Saving the model every 5 epochs\n",
        "    if epoch % 5 == 0:\n",
        "      torch.save(model, 'model_cnn_to_sensors-eroad.pth')"
      ],
      "execution_count": null,
      "outputs": [
        {
          "output_type": "stream",
          "name": "stdout",
          "text": [
            "Epoch: 0 | Loss: 0.0148\n",
            "Acc:: tensor(109.4200, device='cuda:0', grad_fn=<DivBackward0>)\n",
            "Test Accuracy:: tensor(63.8059, device='cuda:0', grad_fn=<DivBackward0>)\n",
            "Epoch: 1 | Loss: 0.0094\n",
            "Acc:: tensor(81.5989, device='cuda:0', grad_fn=<DivBackward0>)\n",
            "Test Accuracy:: tensor(84.8596, device='cuda:0', grad_fn=<DivBackward0>)\n",
            "Epoch: 2 | Loss: 0.0074\n",
            "Acc:: tensor(71.6302, device='cuda:0', grad_fn=<DivBackward0>)\n",
            "Test Accuracy:: tensor(128.6772, device='cuda:0', grad_fn=<DivBackward0>)\n",
            "Epoch: 3 | Loss: 0.0069\n",
            "Acc:: tensor(65.3477, device='cuda:0', grad_fn=<DivBackward0>)\n",
            "Test Accuracy:: tensor(379.4256, device='cuda:0', grad_fn=<DivBackward0>)\n",
            "Epoch: 4 | Loss: 0.0065\n",
            "Acc:: tensor(49.0876, device='cuda:0', grad_fn=<DivBackward0>)\n",
            "Test Accuracy:: tensor(58.0128, device='cuda:0', grad_fn=<DivBackward0>)\n",
            "Epoch: 5 | Loss: 0.0062\n",
            "Acc:: tensor(54.0782, device='cuda:0', grad_fn=<DivBackward0>)\n",
            "Test Accuracy:: tensor(48.4972, device='cuda:0', grad_fn=<DivBackward0>)\n",
            "Epoch: 6 | Loss: 0.0060\n",
            "Acc:: tensor(78.3058, device='cuda:0', grad_fn=<DivBackward0>)\n",
            "Test Accuracy:: tensor(48.5343, device='cuda:0', grad_fn=<DivBackward0>)\n",
            "Epoch: 7 | Loss: 0.0058\n",
            "Acc:: tensor(50.1241, device='cuda:0', grad_fn=<DivBackward0>)\n",
            "Test Accuracy:: tensor(48.2327, device='cuda:0', grad_fn=<DivBackward0>)\n",
            "Epoch: 8 | Loss: 0.0057\n",
            "Acc:: tensor(90.2131, device='cuda:0', grad_fn=<DivBackward0>)\n",
            "Test Accuracy:: tensor(77.7383, device='cuda:0', grad_fn=<DivBackward0>)\n",
            "Epoch: 9 | Loss: 0.0056\n",
            "Acc:: tensor(130.6239, device='cuda:0', grad_fn=<DivBackward0>)\n",
            "Test Accuracy:: tensor(42.1887, device='cuda:0', grad_fn=<DivBackward0>)\n",
            "Epoch: 10 | Loss: 0.0054\n",
            "Acc:: tensor(59.7808, device='cuda:0', grad_fn=<DivBackward0>)\n",
            "Test Accuracy:: tensor(44.6280, device='cuda:0', grad_fn=<DivBackward0>)\n",
            "Epoch: 11 | Loss: 0.0053\n",
            "Acc:: tensor(57.1608, device='cuda:0', grad_fn=<DivBackward0>)\n",
            "Test Accuracy:: tensor(45.1680, device='cuda:0', grad_fn=<DivBackward0>)\n",
            "Epoch: 12 | Loss: 0.0052\n",
            "Acc:: tensor(61.7735, device='cuda:0', grad_fn=<DivBackward0>)\n",
            "Test Accuracy:: tensor(46.1270, device='cuda:0', grad_fn=<DivBackward0>)\n",
            "Epoch: 13 | Loss: 0.0050\n",
            "Acc:: tensor(73.1756, device='cuda:0', grad_fn=<DivBackward0>)\n",
            "Test Accuracy:: tensor(53.8272, device='cuda:0', grad_fn=<DivBackward0>)\n",
            "Epoch: 14 | Loss: 0.0049\n",
            "Acc:: tensor(52.9997, device='cuda:0', grad_fn=<DivBackward0>)\n",
            "Test Accuracy:: tensor(68.3820, device='cuda:0', grad_fn=<DivBackward0>)\n",
            "Epoch: 15 | Loss: 0.0049\n",
            "Acc:: tensor(76.5609, device='cuda:0', grad_fn=<DivBackward0>)\n",
            "Test Accuracy:: tensor(56.5635, device='cuda:0', grad_fn=<DivBackward0>)\n",
            "Epoch: 16 | Loss: 0.0047\n",
            "Acc:: tensor(83.1722, device='cuda:0', grad_fn=<DivBackward0>)\n",
            "Test Accuracy:: tensor(40.9367, device='cuda:0', grad_fn=<DivBackward0>)\n",
            "Epoch: 17 | Loss: 0.0047\n",
            "Acc:: tensor(62.0887, device='cuda:0', grad_fn=<DivBackward0>)\n",
            "Test Accuracy:: tensor(46.3384, device='cuda:0', grad_fn=<DivBackward0>)\n",
            "Epoch: 18 | Loss: 0.0046\n",
            "Acc:: tensor(47.3262, device='cuda:0', grad_fn=<DivBackward0>)\n",
            "Test Accuracy:: tensor(49.6265, device='cuda:0', grad_fn=<DivBackward0>)\n",
            "Epoch: 19 | Loss: 0.0045\n",
            "Acc:: tensor(89.0006, device='cuda:0', grad_fn=<DivBackward0>)\n",
            "Test Accuracy:: tensor(43.7032, device='cuda:0', grad_fn=<DivBackward0>)\n",
            "Epoch: 20 | Loss: 0.0045\n",
            "Acc:: tensor(50.3837, device='cuda:0', grad_fn=<DivBackward0>)\n",
            "Test Accuracy:: tensor(43.9205, device='cuda:0', grad_fn=<DivBackward0>)\n",
            "Epoch: 21 | Loss: 0.0044\n",
            "Acc:: tensor(73.6529, device='cuda:0', grad_fn=<DivBackward0>)\n",
            "Test Accuracy:: tensor(40.2648, device='cuda:0', grad_fn=<DivBackward0>)\n",
            "Epoch: 22 | Loss: 0.0043\n",
            "Acc:: tensor(153.5605, device='cuda:0', grad_fn=<DivBackward0>)\n",
            "Test Accuracy:: tensor(53.9100, device='cuda:0', grad_fn=<DivBackward0>)\n",
            "Epoch: 23 | Loss: 0.0042\n",
            "Acc:: tensor(43.2421, device='cuda:0', grad_fn=<DivBackward0>)\n",
            "Test Accuracy:: tensor(44.7600, device='cuda:0', grad_fn=<DivBackward0>)\n",
            "Epoch: 24 | Loss: 0.0042\n",
            "Acc:: tensor(64.4506, device='cuda:0', grad_fn=<DivBackward0>)\n",
            "Test Accuracy:: tensor(76.1245, device='cuda:0', grad_fn=<DivBackward0>)\n",
            "Epoch: 25 | Loss: 0.0041\n",
            "Acc:: tensor(53.8439, device='cuda:0', grad_fn=<DivBackward0>)\n",
            "Test Accuracy:: tensor(49.4077, device='cuda:0', grad_fn=<DivBackward0>)\n",
            "Epoch: 26 | Loss: 0.0041\n",
            "Acc:: tensor(93.5974, device='cuda:0', grad_fn=<DivBackward0>)\n",
            "Test Accuracy:: tensor(92.3291, device='cuda:0', grad_fn=<DivBackward0>)\n",
            "Epoch: 27 | Loss: 0.0040\n",
            "Acc:: tensor(46.9857, device='cuda:0', grad_fn=<DivBackward0>)\n",
            "Test Accuracy:: tensor(46.8419, device='cuda:0', grad_fn=<DivBackward0>)\n",
            "Epoch: 28 | Loss: 0.0040\n",
            "Acc:: tensor(44.1936, device='cuda:0', grad_fn=<DivBackward0>)\n",
            "Test Accuracy:: tensor(59.0105, device='cuda:0', grad_fn=<DivBackward0>)\n",
            "Epoch: 29 | Loss: 0.0039\n",
            "Acc:: tensor(48.4498, device='cuda:0', grad_fn=<DivBackward0>)\n",
            "Test Accuracy:: tensor(49.6150, device='cuda:0', grad_fn=<DivBackward0>)\n",
            "Epoch: 30 | Loss: 0.0038\n",
            "Acc:: tensor(49.4999, device='cuda:0', grad_fn=<DivBackward0>)\n",
            "Test Accuracy:: tensor(44.2443, device='cuda:0', grad_fn=<DivBackward0>)\n",
            "Epoch: 31 | Loss: 0.0038\n",
            "Acc:: tensor(58.3317, device='cuda:0', grad_fn=<DivBackward0>)\n",
            "Test Accuracy:: tensor(515.4865, device='cuda:0', grad_fn=<DivBackward0>)\n",
            "Epoch: 32 | Loss: 0.0038\n",
            "Acc:: tensor(52.0361, device='cuda:0', grad_fn=<DivBackward0>)\n",
            "Test Accuracy:: tensor(50.5763, device='cuda:0', grad_fn=<DivBackward0>)\n",
            "Epoch: 33 | Loss: 0.0037\n",
            "Acc:: tensor(47.4516, device='cuda:0', grad_fn=<DivBackward0>)\n",
            "Test Accuracy:: tensor(569.7056, device='cuda:0', grad_fn=<DivBackward0>)\n",
            "Epoch: 34 | Loss: 0.0037\n",
            "Acc:: tensor(57.7635, device='cuda:0', grad_fn=<DivBackward0>)\n",
            "Test Accuracy:: tensor(99.4368, device='cuda:0', grad_fn=<DivBackward0>)\n",
            "Epoch: 35 | Loss: 0.0037\n",
            "Acc:: tensor(78.3356, device='cuda:0', grad_fn=<DivBackward0>)\n",
            "Test Accuracy:: tensor(43.8780, device='cuda:0', grad_fn=<DivBackward0>)\n",
            "Epoch: 36 | Loss: 0.0036\n",
            "Acc:: tensor(48.0332, device='cuda:0', grad_fn=<DivBackward0>)\n",
            "Test Accuracy:: tensor(104.5150, device='cuda:0', grad_fn=<DivBackward0>)\n",
            "Epoch: 37 | Loss: 0.0036\n",
            "Acc:: tensor(47.5392, device='cuda:0', grad_fn=<DivBackward0>)\n",
            "Test Accuracy:: tensor(58.0242, device='cuda:0', grad_fn=<DivBackward0>)\n",
            "Epoch: 38 | Loss: 0.0035\n",
            "Acc:: tensor(46.0391, device='cuda:0', grad_fn=<DivBackward0>)\n",
            "Test Accuracy:: tensor(41.5711, device='cuda:0', grad_fn=<DivBackward0>)\n",
            "Epoch: 39 | Loss: 0.0035\n",
            "Acc:: tensor(51.5142, device='cuda:0', grad_fn=<DivBackward0>)\n",
            "Test Accuracy:: tensor(83.9183, device='cuda:0', grad_fn=<DivBackward0>)\n",
            "Epoch: 40 | Loss: 0.0035\n",
            "Acc:: tensor(57.8200, device='cuda:0', grad_fn=<DivBackward0>)\n",
            "Test Accuracy:: tensor(49.1121, device='cuda:0', grad_fn=<DivBackward0>)\n",
            "Epoch: 41 | Loss: 0.0034\n",
            "Acc:: tensor(48.0526, device='cuda:0', grad_fn=<DivBackward0>)\n",
            "Test Accuracy:: tensor(61.6695, device='cuda:0', grad_fn=<DivBackward0>)\n",
            "Epoch: 42 | Loss: 0.0034\n",
            "Acc:: tensor(61.2153, device='cuda:0', grad_fn=<DivBackward0>)\n",
            "Test Accuracy:: tensor(52.9692, device='cuda:0', grad_fn=<DivBackward0>)\n",
            "Epoch: 43 | Loss: 0.0034\n",
            "Acc:: tensor(111.9596, device='cuda:0', grad_fn=<DivBackward0>)\n",
            "Test Accuracy:: tensor(49.3804, device='cuda:0', grad_fn=<DivBackward0>)\n",
            "Epoch: 44 | Loss: 0.0033\n",
            "Acc:: tensor(47.0425, device='cuda:0', grad_fn=<DivBackward0>)\n",
            "Test Accuracy:: tensor(44.8728, device='cuda:0', grad_fn=<DivBackward0>)\n",
            "Epoch: 45 | Loss: 0.0033\n",
            "Acc:: tensor(47.8344, device='cuda:0', grad_fn=<DivBackward0>)\n",
            "Test Accuracy:: tensor(51.0700, device='cuda:0', grad_fn=<DivBackward0>)\n",
            "Epoch: 46 | Loss: 0.0033\n",
            "Acc:: tensor(68.3669, device='cuda:0', grad_fn=<DivBackward0>)\n",
            "Test Accuracy:: tensor(41.2360, device='cuda:0', grad_fn=<DivBackward0>)\n",
            "Epoch: 47 | Loss: 0.0033\n",
            "Acc:: tensor(91.7718, device='cuda:0', grad_fn=<DivBackward0>)\n",
            "Test Accuracy:: tensor(49.9798, device='cuda:0', grad_fn=<DivBackward0>)\n",
            "Epoch: 48 | Loss: 0.0032\n",
            "Acc:: tensor(49.1878, device='cuda:0', grad_fn=<DivBackward0>)\n",
            "Test Accuracy:: tensor(74.1974, device='cuda:0', grad_fn=<DivBackward0>)\n",
            "Epoch: 49 | Loss: 0.0032\n",
            "Acc:: tensor(56.1030, device='cuda:0', grad_fn=<DivBackward0>)\n",
            "Test Accuracy:: tensor(46.9045, device='cuda:0', grad_fn=<DivBackward0>)\n",
            "Epoch: 50 | Loss: 0.0032\n",
            "Acc:: tensor(72.2760, device='cuda:0', grad_fn=<DivBackward0>)\n",
            "Test Accuracy:: tensor(45.4551, device='cuda:0', grad_fn=<DivBackward0>)\n",
            "Epoch: 51 | Loss: 0.0032\n",
            "Acc:: tensor(50.0541, device='cuda:0', grad_fn=<DivBackward0>)\n",
            "Test Accuracy:: tensor(47.3987, device='cuda:0', grad_fn=<DivBackward0>)\n",
            "Epoch: 52 | Loss: 0.0031\n",
            "Acc:: tensor(48.5302, device='cuda:0', grad_fn=<DivBackward0>)\n",
            "Test Accuracy:: tensor(59.3121, device='cuda:0', grad_fn=<DivBackward0>)\n",
            "Epoch: 53 | Loss: 0.0031\n",
            "Acc:: tensor(44.6541, device='cuda:0', grad_fn=<DivBackward0>)\n",
            "Test Accuracy:: tensor(66.9265, device='cuda:0', grad_fn=<DivBackward0>)\n",
            "Epoch: 54 | Loss: 0.0031\n",
            "Acc:: tensor(141.6560, device='cuda:0', grad_fn=<DivBackward0>)\n",
            "Test Accuracy:: tensor(55.0706, device='cuda:0', grad_fn=<DivBackward0>)\n",
            "Epoch: 55 | Loss: 0.0031\n",
            "Acc:: tensor(52.4509, device='cuda:0', grad_fn=<DivBackward0>)\n",
            "Test Accuracy:: tensor(62.5120, device='cuda:0', grad_fn=<DivBackward0>)\n",
            "Epoch: 56 | Loss: 0.0030\n",
            "Acc:: tensor(47.8013, device='cuda:0', grad_fn=<DivBackward0>)\n",
            "Test Accuracy:: tensor(85.4491, device='cuda:0', grad_fn=<DivBackward0>)\n",
            "Epoch: 57 | Loss: 0.0030\n",
            "Acc:: tensor(41.6737, device='cuda:0', grad_fn=<DivBackward0>)\n",
            "Test Accuracy:: tensor(160.7912, device='cuda:0', grad_fn=<DivBackward0>)\n",
            "Epoch: 58 | Loss: 0.0030\n",
            "Acc:: tensor(48.6553, device='cuda:0', grad_fn=<DivBackward0>)\n",
            "Test Accuracy:: tensor(71.1958, device='cuda:0', grad_fn=<DivBackward0>)\n",
            "Epoch: 59 | Loss: 0.0030\n",
            "Acc:: tensor(61.3897, device='cuda:0', grad_fn=<DivBackward0>)\n",
            "Test Accuracy:: tensor(50.2454, device='cuda:0', grad_fn=<DivBackward0>)\n",
            "Epoch: 60 | Loss: 0.0030\n",
            "Acc:: tensor(43.3763, device='cuda:0', grad_fn=<DivBackward0>)\n",
            "Test Accuracy:: tensor(50.0151, device='cuda:0', grad_fn=<DivBackward0>)\n",
            "Epoch: 61 | Loss: 0.0030\n",
            "Acc:: tensor(231.1422, device='cuda:0', grad_fn=<DivBackward0>)\n",
            "Test Accuracy:: tensor(61.3207, device='cuda:0', grad_fn=<DivBackward0>)\n",
            "Epoch: 62 | Loss: 0.0029\n",
            "Acc:: tensor(43.4811, device='cuda:0', grad_fn=<DivBackward0>)\n",
            "Test Accuracy:: tensor(48.3731, device='cuda:0', grad_fn=<DivBackward0>)\n",
            "Epoch: 63 | Loss: 0.0029\n",
            "Acc:: tensor(84.3962, device='cuda:0', grad_fn=<DivBackward0>)\n",
            "Test Accuracy:: tensor(49.6934, device='cuda:0', grad_fn=<DivBackward0>)\n",
            "Epoch: 64 | Loss: 0.0029\n",
            "Acc:: tensor(64.6937, device='cuda:0', grad_fn=<DivBackward0>)\n",
            "Test Accuracy:: tensor(62.4401, device='cuda:0', grad_fn=<DivBackward0>)\n",
            "Epoch: 65 | Loss: 0.0029\n",
            "Acc:: tensor(55.6915, device='cuda:0', grad_fn=<DivBackward0>)\n",
            "Test Accuracy:: tensor(58.7417, device='cuda:0', grad_fn=<DivBackward0>)\n",
            "Epoch: 66 | Loss: 0.0029\n",
            "Acc:: tensor(51.4885, device='cuda:0', grad_fn=<DivBackward0>)\n",
            "Test Accuracy:: tensor(61.2772, device='cuda:0', grad_fn=<DivBackward0>)\n",
            "Epoch: 67 | Loss: 0.0029\n",
            "Acc:: tensor(54.0580, device='cuda:0', grad_fn=<DivBackward0>)\n",
            "Test Accuracy:: tensor(45.9779, device='cuda:0', grad_fn=<DivBackward0>)\n",
            "Epoch: 68 | Loss: 0.0028\n",
            "Acc:: tensor(119.1572, device='cuda:0', grad_fn=<DivBackward0>)\n",
            "Test Accuracy:: tensor(56.1879, device='cuda:0', grad_fn=<DivBackward0>)\n",
            "Epoch: 69 | Loss: 0.0028\n",
            "Acc:: tensor(101.3213, device='cuda:0', grad_fn=<DivBackward0>)\n",
            "Test Accuracy:: tensor(112.3239, device='cuda:0', grad_fn=<DivBackward0>)\n",
            "Epoch: 70 | Loss: 0.0028\n",
            "Acc:: tensor(78.8391, device='cuda:0', grad_fn=<DivBackward0>)\n",
            "Test Accuracy:: tensor(44.7058, device='cuda:0', grad_fn=<DivBackward0>)\n",
            "Epoch: 71 | Loss: 0.0028\n",
            "Acc:: tensor(64.1168, device='cuda:0', grad_fn=<DivBackward0>)\n",
            "Test Accuracy:: tensor(46.9566, device='cuda:0', grad_fn=<DivBackward0>)\n",
            "Epoch: 72 | Loss: 0.0028\n",
            "Acc:: tensor(50.0736, device='cuda:0', grad_fn=<DivBackward0>)\n",
            "Test Accuracy:: tensor(58.1492, device='cuda:0', grad_fn=<DivBackward0>)\n",
            "Epoch: 73 | Loss: 0.0028\n",
            "Acc:: tensor(80.2553, device='cuda:0', grad_fn=<DivBackward0>)\n",
            "Test Accuracy:: tensor(51.3187, device='cuda:0', grad_fn=<DivBackward0>)\n",
            "Epoch: 74 | Loss: 0.0028\n",
            "Acc:: tensor(89.3872, device='cuda:0', grad_fn=<DivBackward0>)\n",
            "Test Accuracy:: tensor(50.1188, device='cuda:0', grad_fn=<DivBackward0>)\n",
            "Epoch: 75 | Loss: 0.0028\n",
            "Acc:: tensor(45.0570, device='cuda:0', grad_fn=<DivBackward0>)\n",
            "Test Accuracy:: tensor(56.3848, device='cuda:0', grad_fn=<DivBackward0>)\n",
            "Epoch: 76 | Loss: 0.0028\n",
            "Acc:: tensor(57.9092, device='cuda:0', grad_fn=<DivBackward0>)\n",
            "Test Accuracy:: tensor(63.5999, device='cuda:0', grad_fn=<DivBackward0>)\n",
            "Epoch: 77 | Loss: 0.0027\n",
            "Acc:: tensor(48.6985, device='cuda:0', grad_fn=<DivBackward0>)\n",
            "Test Accuracy:: tensor(44.4985, device='cuda:0', grad_fn=<DivBackward0>)\n",
            "Epoch: 78 | Loss: 0.0027\n",
            "Acc:: tensor(59.3359, device='cuda:0', grad_fn=<DivBackward0>)\n",
            "Test Accuracy:: tensor(65.9334, device='cuda:0', grad_fn=<DivBackward0>)\n",
            "Epoch: 79 | Loss: 0.0027\n",
            "Acc:: tensor(45.7910, device='cuda:0', grad_fn=<DivBackward0>)\n",
            "Test Accuracy:: tensor(58.0596, device='cuda:0', grad_fn=<DivBackward0>)\n",
            "Epoch: 80 | Loss: 0.0027\n",
            "Acc:: tensor(54.2199, device='cuda:0', grad_fn=<DivBackward0>)\n",
            "Test Accuracy:: tensor(55.7179, device='cuda:0', grad_fn=<DivBackward0>)\n",
            "Epoch: 81 | Loss: 0.0027\n",
            "Acc:: tensor(50.6819, device='cuda:0', grad_fn=<DivBackward0>)\n",
            "Test Accuracy:: tensor(76.6622, device='cuda:0', grad_fn=<DivBackward0>)\n",
            "Epoch: 82 | Loss: 0.0027\n",
            "Acc:: tensor(46.5389, device='cuda:0', grad_fn=<DivBackward0>)\n",
            "Test Accuracy:: tensor(61.9882, device='cuda:0', grad_fn=<DivBackward0>)\n",
            "Epoch: 83 | Loss: 0.0027\n",
            "Acc:: tensor(42.2018, device='cuda:0', grad_fn=<DivBackward0>)\n",
            "Test Accuracy:: tensor(80.4128, device='cuda:0', grad_fn=<DivBackward0>)\n",
            "Epoch: 84 | Loss: 0.0027\n",
            "Acc:: tensor(49.2180, device='cuda:0', grad_fn=<DivBackward0>)\n",
            "Test Accuracy:: tensor(56.6158, device='cuda:0', grad_fn=<DivBackward0>)\n",
            "Epoch: 85 | Loss: 0.0027\n",
            "Acc:: tensor(46.9331, device='cuda:0', grad_fn=<DivBackward0>)\n",
            "Test Accuracy:: tensor(49.5915, device='cuda:0', grad_fn=<DivBackward0>)\n",
            "Epoch: 86 | Loss: 0.0026\n",
            "Acc:: tensor(122.7281, device='cuda:0', grad_fn=<DivBackward0>)\n",
            "Test Accuracy:: tensor(56.8259, device='cuda:0', grad_fn=<DivBackward0>)\n",
            "Epoch: 87 | Loss: 0.0026\n",
            "Acc:: tensor(56.7619, device='cuda:0', grad_fn=<DivBackward0>)\n",
            "Test Accuracy:: tensor(93.7594, device='cuda:0', grad_fn=<DivBackward0>)\n",
            "Epoch: 88 | Loss: 0.0026\n",
            "Acc:: tensor(50.5633, device='cuda:0', grad_fn=<DivBackward0>)\n",
            "Test Accuracy:: tensor(135.2182, device='cuda:0', grad_fn=<DivBackward0>)\n",
            "Epoch: 89 | Loss: 0.0026\n",
            "Acc:: tensor(58.7703, device='cuda:0', grad_fn=<DivBackward0>)\n",
            "Test Accuracy:: tensor(52.8391, device='cuda:0', grad_fn=<DivBackward0>)\n",
            "Epoch: 90 | Loss: 0.0026\n",
            "Acc:: tensor(54.2664, device='cuda:0', grad_fn=<DivBackward0>)\n",
            "Test Accuracy:: tensor(43.8258, device='cuda:0', grad_fn=<DivBackward0>)\n",
            "Epoch: 91 | Loss: 0.0026\n",
            "Acc:: tensor(45.2679, device='cuda:0', grad_fn=<DivBackward0>)\n",
            "Test Accuracy:: tensor(49.9275, device='cuda:0', grad_fn=<DivBackward0>)\n",
            "Epoch: 92 | Loss: 0.0026\n",
            "Acc:: tensor(55.4094, device='cuda:0', grad_fn=<DivBackward0>)\n",
            "Test Accuracy:: tensor(49.1436, device='cuda:0', grad_fn=<DivBackward0>)\n",
            "Epoch: 93 | Loss: 0.0026\n",
            "Acc:: tensor(57.7239, device='cuda:0', grad_fn=<DivBackward0>)\n",
            "Test Accuracy:: tensor(54.7843, device='cuda:0', grad_fn=<DivBackward0>)\n",
            "Epoch: 94 | Loss: 0.0026\n",
            "Acc:: tensor(58.8840, device='cuda:0', grad_fn=<DivBackward0>)\n",
            "Test Accuracy:: tensor(52.7520, device='cuda:0', grad_fn=<DivBackward0>)\n",
            "Epoch: 95 | Loss: 0.0026\n",
            "Acc:: tensor(43.8929, device='cuda:0', grad_fn=<DivBackward0>)\n",
            "Test Accuracy:: tensor(56.5614, device='cuda:0', grad_fn=<DivBackward0>)\n",
            "Epoch: 96 | Loss: 0.0026\n",
            "Acc:: tensor(345.3228, device='cuda:0', grad_fn=<DivBackward0>)\n",
            "Test Accuracy:: tensor(48.3134, device='cuda:0', grad_fn=<DivBackward0>)\n",
            "Epoch: 97 | Loss: 0.0026\n",
            "Acc:: tensor(55.8075, device='cuda:0', grad_fn=<DivBackward0>)\n",
            "Test Accuracy:: tensor(64.6935, device='cuda:0', grad_fn=<DivBackward0>)\n",
            "Epoch: 98 | Loss: 0.0025\n",
            "Acc:: tensor(74.8585, device='cuda:0', grad_fn=<DivBackward0>)\n",
            "Test Accuracy:: tensor(58.1241, device='cuda:0', grad_fn=<DivBackward0>)\n",
            "Epoch: 99 | Loss: 0.0025\n",
            "Acc:: tensor(58.9682, device='cuda:0', grad_fn=<DivBackward0>)\n",
            "Test Accuracy:: tensor(68.6170, device='cuda:0', grad_fn=<DivBackward0>)\n",
            "Epoch: 100 | Loss: 0.0025\n",
            "Acc:: tensor(79.3547, device='cuda:0', grad_fn=<DivBackward0>)\n",
            "Test Accuracy:: tensor(358.0208, device='cuda:0', grad_fn=<DivBackward0>)\n",
            "Epoch: 101 | Loss: 0.0025\n",
            "Acc:: tensor(51.2753, device='cuda:0', grad_fn=<DivBackward0>)\n",
            "Test Accuracy:: tensor(127.2779, device='cuda:0', grad_fn=<DivBackward0>)\n",
            "Epoch: 102 | Loss: 0.0025\n",
            "Acc:: tensor(52.3117, device='cuda:0', grad_fn=<DivBackward0>)\n",
            "Test Accuracy:: tensor(58.8440, device='cuda:0', grad_fn=<DivBackward0>)\n",
            "Epoch: 103 | Loss: 0.0025\n",
            "Acc:: tensor(67.7172, device='cuda:0', grad_fn=<DivBackward0>)\n",
            "Test Accuracy:: tensor(58.4731, device='cuda:0', grad_fn=<DivBackward0>)\n",
            "Epoch: 104 | Loss: 0.0025\n",
            "Acc:: tensor(46.8221, device='cuda:0', grad_fn=<DivBackward0>)\n",
            "Test Accuracy:: tensor(49.6365, device='cuda:0', grad_fn=<DivBackward0>)\n",
            "Epoch: 105 | Loss: 0.0025\n",
            "Acc:: tensor(51.7387, device='cuda:0', grad_fn=<DivBackward0>)\n",
            "Test Accuracy:: tensor(48.1387, device='cuda:0', grad_fn=<DivBackward0>)\n",
            "Epoch: 106 | Loss: 0.0025\n",
            "Acc:: tensor(66.0882, device='cuda:0', grad_fn=<DivBackward0>)\n",
            "Test Accuracy:: tensor(267.0494, device='cuda:0', grad_fn=<DivBackward0>)\n",
            "Epoch: 107 | Loss: 0.0025\n",
            "Acc:: tensor(46.0764, device='cuda:0', grad_fn=<DivBackward0>)\n",
            "Test Accuracy:: tensor(49.3578, device='cuda:0', grad_fn=<DivBackward0>)\n",
            "Epoch: 108 | Loss: 0.0025\n",
            "Acc:: tensor(43.7816, device='cuda:0', grad_fn=<DivBackward0>)\n",
            "Test Accuracy:: tensor(44.9275, device='cuda:0', grad_fn=<DivBackward0>)\n",
            "Epoch: 109 | Loss: 0.0025\n",
            "Acc:: tensor(50.5322, device='cuda:0', grad_fn=<DivBackward0>)\n",
            "Test Accuracy:: tensor(60.1351, device='cuda:0', grad_fn=<DivBackward0>)\n",
            "Epoch: 110 | Loss: 0.0025\n",
            "Acc:: tensor(50.2551, device='cuda:0', grad_fn=<DivBackward0>)\n",
            "Test Accuracy:: tensor(51.3155, device='cuda:0', grad_fn=<DivBackward0>)\n",
            "Epoch: 111 | Loss: 0.0024\n",
            "Acc:: tensor(52.1572, device='cuda:0', grad_fn=<DivBackward0>)\n",
            "Test Accuracy:: tensor(80.5856, device='cuda:0', grad_fn=<DivBackward0>)\n",
            "Epoch: 112 | Loss: 0.0025\n",
            "Acc:: tensor(47.7863, device='cuda:0', grad_fn=<DivBackward0>)\n",
            "Test Accuracy:: tensor(54.7556, device='cuda:0', grad_fn=<DivBackward0>)\n",
            "Epoch: 113 | Loss: 0.0025\n",
            "Acc:: tensor(48.6117, device='cuda:0', grad_fn=<DivBackward0>)\n",
            "Test Accuracy:: tensor(53.5109, device='cuda:0', grad_fn=<DivBackward0>)\n",
            "Epoch: 114 | Loss: 0.0024\n",
            "Acc:: tensor(49.6830, device='cuda:0', grad_fn=<DivBackward0>)\n",
            "Test Accuracy:: tensor(50.4074, device='cuda:0', grad_fn=<DivBackward0>)\n",
            "Epoch: 115 | Loss: 0.0024\n",
            "Acc:: tensor(45.5922, device='cuda:0', grad_fn=<DivBackward0>)\n",
            "Test Accuracy:: tensor(266.1963, device='cuda:0', grad_fn=<DivBackward0>)\n",
            "Epoch: 116 | Loss: 0.0024\n",
            "Acc:: tensor(43.4854, device='cuda:0', grad_fn=<DivBackward0>)\n",
            "Test Accuracy:: tensor(71.8988, device='cuda:0', grad_fn=<DivBackward0>)\n",
            "Epoch: 117 | Loss: 0.0024\n",
            "Acc:: tensor(61.0715, device='cuda:0', grad_fn=<DivBackward0>)\n",
            "Test Accuracy:: tensor(61.3371, device='cuda:0', grad_fn=<DivBackward0>)\n",
            "Epoch: 118 | Loss: 0.0024\n",
            "Acc:: tensor(64.9084, device='cuda:0', grad_fn=<DivBackward0>)\n",
            "Test Accuracy:: tensor(47.9438, device='cuda:0', grad_fn=<DivBackward0>)\n",
            "Epoch: 119 | Loss: 0.0024\n",
            "Acc:: tensor(52.3864, device='cuda:0', grad_fn=<DivBackward0>)\n",
            "Test Accuracy:: tensor(66.7902, device='cuda:0', grad_fn=<DivBackward0>)\n",
            "Epoch: 120 | Loss: 0.0024\n",
            "Acc:: tensor(66.1955, device='cuda:0', grad_fn=<DivBackward0>)\n",
            "Test Accuracy:: tensor(45.2451, device='cuda:0', grad_fn=<DivBackward0>)\n",
            "Epoch: 121 | Loss: 0.0024\n",
            "Acc:: tensor(135.6607, device='cuda:0', grad_fn=<DivBackward0>)\n",
            "Test Accuracy:: tensor(74.1230, device='cuda:0', grad_fn=<DivBackward0>)\n",
            "Epoch: 122 | Loss: 0.0024\n",
            "Acc:: tensor(61.4007, device='cuda:0', grad_fn=<DivBackward0>)\n",
            "Test Accuracy:: tensor(87.2725, device='cuda:0', grad_fn=<DivBackward0>)\n",
            "Epoch: 123 | Loss: 0.0024\n",
            "Acc:: tensor(39.9550, device='cuda:0', grad_fn=<DivBackward0>)\n",
            "Test Accuracy:: tensor(51.4239, device='cuda:0', grad_fn=<DivBackward0>)\n",
            "Epoch: 124 | Loss: 0.0024\n",
            "Acc:: tensor(46.7234, device='cuda:0', grad_fn=<DivBackward0>)\n",
            "Test Accuracy:: tensor(47.2117, device='cuda:0', grad_fn=<DivBackward0>)\n",
            "Epoch: 125 | Loss: 0.0024\n",
            "Acc:: tensor(52.0705, device='cuda:0', grad_fn=<DivBackward0>)\n",
            "Test Accuracy:: tensor(54.4208, device='cuda:0', grad_fn=<DivBackward0>)\n",
            "Epoch: 126 | Loss: 0.0024\n",
            "Acc:: tensor(51.6739, device='cuda:0', grad_fn=<DivBackward0>)\n",
            "Test Accuracy:: tensor(313.7829, device='cuda:0', grad_fn=<DivBackward0>)\n",
            "Epoch: 127 | Loss: 0.0024\n",
            "Acc:: tensor(75.2904, device='cuda:0', grad_fn=<DivBackward0>)\n",
            "Test Accuracy:: tensor(57.1362, device='cuda:0', grad_fn=<DivBackward0>)\n",
            "Epoch: 128 | Loss: 0.0024\n",
            "Acc:: tensor(48.8862, device='cuda:0', grad_fn=<DivBackward0>)\n",
            "Test Accuracy:: tensor(48.6900, device='cuda:0', grad_fn=<DivBackward0>)\n",
            "Epoch: 129 | Loss: 0.0024\n",
            "Acc:: tensor(57.9817, device='cuda:0', grad_fn=<DivBackward0>)\n",
            "Test Accuracy:: tensor(50.1901, device='cuda:0', grad_fn=<DivBackward0>)\n",
            "Epoch: 130 | Loss: 0.0024\n",
            "Acc:: tensor(77.9506, device='cuda:0', grad_fn=<DivBackward0>)\n",
            "Test Accuracy:: tensor(57.3354, device='cuda:0', grad_fn=<DivBackward0>)\n",
            "Epoch: 131 | Loss: 0.0024\n",
            "Acc:: tensor(48.1365, device='cuda:0', grad_fn=<DivBackward0>)\n",
            "Test Accuracy:: tensor(55.3215, device='cuda:0', grad_fn=<DivBackward0>)\n",
            "Epoch: 132 | Loss: 0.0023\n",
            "Acc:: tensor(67.2634, device='cuda:0', grad_fn=<DivBackward0>)\n",
            "Test Accuracy:: tensor(51.2960, device='cuda:0', grad_fn=<DivBackward0>)\n",
            "Epoch: 133 | Loss: 0.0023\n",
            "Acc:: tensor(64.6610, device='cuda:0', grad_fn=<DivBackward0>)\n",
            "Test Accuracy:: tensor(55.2779, device='cuda:0', grad_fn=<DivBackward0>)\n",
            "Epoch: 134 | Loss: 0.0024\n",
            "Acc:: tensor(40.9798, device='cuda:0', grad_fn=<DivBackward0>)\n",
            "Test Accuracy:: tensor(55.1262, device='cuda:0', grad_fn=<DivBackward0>)\n",
            "Epoch: 135 | Loss: 0.0023\n",
            "Acc:: tensor(52.5751, device='cuda:0', grad_fn=<DivBackward0>)\n",
            "Test Accuracy:: tensor(55.4738, device='cuda:0', grad_fn=<DivBackward0>)\n",
            "Epoch: 136 | Loss: 0.0023\n",
            "Acc:: tensor(55.7582, device='cuda:0', grad_fn=<DivBackward0>)\n",
            "Test Accuracy:: tensor(48.4268, device='cuda:0', grad_fn=<DivBackward0>)\n",
            "Epoch: 137 | Loss: 0.0023\n",
            "Acc:: tensor(89.8078, device='cuda:0', grad_fn=<DivBackward0>)\n",
            "Test Accuracy:: tensor(49.5515, device='cuda:0', grad_fn=<DivBackward0>)\n",
            "Epoch: 138 | Loss: 0.0023\n",
            "Acc:: tensor(52.1133, device='cuda:0', grad_fn=<DivBackward0>)\n",
            "Test Accuracy:: tensor(48.8502, device='cuda:0', grad_fn=<DivBackward0>)\n",
            "Epoch: 139 | Loss: 0.0023\n",
            "Acc:: tensor(46.8802, device='cuda:0', grad_fn=<DivBackward0>)\n",
            "Test Accuracy:: tensor(52.9833, device='cuda:0', grad_fn=<DivBackward0>)\n",
            "Epoch: 140 | Loss: 0.0023\n",
            "Acc:: tensor(41.4804, device='cuda:0', grad_fn=<DivBackward0>)\n",
            "Test Accuracy:: tensor(56.3688, device='cuda:0', grad_fn=<DivBackward0>)\n",
            "Epoch: 141 | Loss: 0.0023\n",
            "Acc:: tensor(54.3297, device='cuda:0', grad_fn=<DivBackward0>)\n",
            "Test Accuracy:: tensor(64.7508, device='cuda:0', grad_fn=<DivBackward0>)\n",
            "Epoch: 142 | Loss: 0.0023\n",
            "Acc:: tensor(65.1825, device='cuda:0', grad_fn=<DivBackward0>)\n",
            "Test Accuracy:: tensor(585.7306, device='cuda:0', grad_fn=<DivBackward0>)\n",
            "Epoch: 143 | Loss: 0.0023\n",
            "Acc:: tensor(45.8756, device='cuda:0', grad_fn=<DivBackward0>)\n",
            "Test Accuracy:: tensor(88.4826, device='cuda:0', grad_fn=<DivBackward0>)\n",
            "Epoch: 144 | Loss: 0.0023\n",
            "Acc:: tensor(46.1443, device='cuda:0', grad_fn=<DivBackward0>)\n",
            "Test Accuracy:: tensor(87.0077, device='cuda:0', grad_fn=<DivBackward0>)\n",
            "Epoch: 145 | Loss: 0.0023\n",
            "Acc:: tensor(46.1136, device='cuda:0', grad_fn=<DivBackward0>)\n",
            "Test Accuracy:: tensor(71.9958, device='cuda:0', grad_fn=<DivBackward0>)\n",
            "Epoch: 146 | Loss: 0.0023\n",
            "Acc:: tensor(61.5257, device='cuda:0', grad_fn=<DivBackward0>)\n",
            "Test Accuracy:: tensor(52.4642, device='cuda:0', grad_fn=<DivBackward0>)\n",
            "Epoch: 147 | Loss: 0.0023\n",
            "Acc:: tensor(60.2736, device='cuda:0', grad_fn=<DivBackward0>)\n",
            "Test Accuracy:: tensor(46.5988, device='cuda:0', grad_fn=<DivBackward0>)\n",
            "Epoch: 148 | Loss: 0.0023\n",
            "Acc:: tensor(47.9967, device='cuda:0', grad_fn=<DivBackward0>)\n",
            "Test Accuracy:: tensor(51.5756, device='cuda:0', grad_fn=<DivBackward0>)\n",
            "Epoch: 149 | Loss: 0.0023\n",
            "Acc:: tensor(55.7903, device='cuda:0', grad_fn=<DivBackward0>)\n",
            "Test Accuracy:: tensor(61.8597, device='cuda:0', grad_fn=<DivBackward0>)\n",
            "Epoch: 150 | Loss: 0.0023\n",
            "Acc:: tensor(68.7885, device='cuda:0', grad_fn=<DivBackward0>)\n",
            "Test Accuracy:: tensor(64.9839, device='cuda:0', grad_fn=<DivBackward0>)\n",
            "Epoch: 151 | Loss: 0.0023\n",
            "Acc:: tensor(48.5014, device='cuda:0', grad_fn=<DivBackward0>)\n",
            "Test Accuracy:: tensor(76.6386, device='cuda:0', grad_fn=<DivBackward0>)\n",
            "Epoch: 152 | Loss: 0.0023\n",
            "Acc:: tensor(42.9641, device='cuda:0', grad_fn=<DivBackward0>)\n",
            "Test Accuracy:: tensor(58.9385, device='cuda:0', grad_fn=<DivBackward0>)\n",
            "Epoch: 153 | Loss: 0.0023\n",
            "Acc:: tensor(46.8610, device='cuda:0', grad_fn=<DivBackward0>)\n",
            "Test Accuracy:: tensor(65.4309, device='cuda:0', grad_fn=<DivBackward0>)\n",
            "Epoch: 154 | Loss: 0.0023\n",
            "Acc:: tensor(45.2021, device='cuda:0', grad_fn=<DivBackward0>)\n",
            "Test Accuracy:: tensor(50.7201, device='cuda:0', grad_fn=<DivBackward0>)\n",
            "Epoch: 155 | Loss: 0.0023\n",
            "Acc:: tensor(45.8136, device='cuda:0', grad_fn=<DivBackward0>)\n",
            "Test Accuracy:: tensor(959.0485, device='cuda:0', grad_fn=<DivBackward0>)\n",
            "Epoch: 156 | Loss: 0.0023\n",
            "Acc:: tensor(261.2561, device='cuda:0', grad_fn=<DivBackward0>)\n",
            "Test Accuracy:: tensor(50.3436, device='cuda:0', grad_fn=<DivBackward0>)\n",
            "Epoch: 157 | Loss: 0.0023\n",
            "Acc:: tensor(44.4124, device='cuda:0', grad_fn=<DivBackward0>)\n",
            "Test Accuracy:: tensor(56.6921, device='cuda:0', grad_fn=<DivBackward0>)\n",
            "Epoch: 158 | Loss: 0.0023\n",
            "Acc:: tensor(49.2874, device='cuda:0', grad_fn=<DivBackward0>)\n",
            "Test Accuracy:: tensor(62.2962, device='cuda:0', grad_fn=<DivBackward0>)\n",
            "Epoch: 159 | Loss: 0.0023\n",
            "Acc:: tensor(46.3863, device='cuda:0', grad_fn=<DivBackward0>)\n",
            "Test Accuracy:: tensor(59.7777, device='cuda:0', grad_fn=<DivBackward0>)\n",
            "Epoch: 160 | Loss: 0.0023\n",
            "Acc:: tensor(55.1014, device='cuda:0', grad_fn=<DivBackward0>)\n",
            "Test Accuracy:: tensor(56.2850, device='cuda:0', grad_fn=<DivBackward0>)\n",
            "Epoch: 161 | Loss: 0.0023\n",
            "Acc:: tensor(95.0517, device='cuda:0', grad_fn=<DivBackward0>)\n",
            "Test Accuracy:: tensor(55.0934, device='cuda:0', grad_fn=<DivBackward0>)\n",
            "Epoch: 162 | Loss: 0.0022\n",
            "Acc:: tensor(43.4341, device='cuda:0', grad_fn=<DivBackward0>)\n",
            "Test Accuracy:: tensor(51.5633, device='cuda:0', grad_fn=<DivBackward0>)\n",
            "Epoch: 163 | Loss: 0.0022\n",
            "Acc:: tensor(52.0674, device='cuda:0', grad_fn=<DivBackward0>)\n",
            "Test Accuracy:: tensor(50.0656, device='cuda:0', grad_fn=<DivBackward0>)\n",
            "Epoch: 164 | Loss: 0.0022\n",
            "Acc:: tensor(47.4457, device='cuda:0', grad_fn=<DivBackward0>)\n",
            "Test Accuracy:: tensor(82.1619, device='cuda:0', grad_fn=<DivBackward0>)\n",
            "Epoch: 165 | Loss: 0.0022\n",
            "Acc:: tensor(49.0560, device='cuda:0', grad_fn=<DivBackward0>)\n",
            "Test Accuracy:: tensor(69.7594, device='cuda:0', grad_fn=<DivBackward0>)\n",
            "Epoch: 166 | Loss: 0.0022\n",
            "Acc:: tensor(62.7418, device='cuda:0', grad_fn=<DivBackward0>)\n",
            "Test Accuracy:: tensor(47.7806, device='cuda:0', grad_fn=<DivBackward0>)\n",
            "Epoch: 167 | Loss: 0.0022\n",
            "Acc:: tensor(165.6911, device='cuda:0', grad_fn=<DivBackward0>)\n",
            "Test Accuracy:: tensor(59.4763, device='cuda:0', grad_fn=<DivBackward0>)\n",
            "Epoch: 168 | Loss: 0.0022\n",
            "Acc:: tensor(43.3830, device='cuda:0', grad_fn=<DivBackward0>)\n",
            "Test Accuracy:: tensor(69.9120, device='cuda:0', grad_fn=<DivBackward0>)\n",
            "Epoch: 169 | Loss: 0.0022\n",
            "Acc:: tensor(47.2691, device='cuda:0', grad_fn=<DivBackward0>)\n",
            "Test Accuracy:: tensor(64.5264, device='cuda:0', grad_fn=<DivBackward0>)\n",
            "Epoch: 170 | Loss: 0.0022\n",
            "Acc:: tensor(62.2713, device='cuda:0', grad_fn=<DivBackward0>)\n",
            "Test Accuracy:: tensor(64.2445, device='cuda:0', grad_fn=<DivBackward0>)\n",
            "Epoch: 171 | Loss: 0.0022\n",
            "Acc:: tensor(110.9866, device='cuda:0', grad_fn=<DivBackward0>)\n",
            "Test Accuracy:: tensor(50.9709, device='cuda:0', grad_fn=<DivBackward0>)\n",
            "Epoch: 172 | Loss: 0.0022\n",
            "Acc:: tensor(53.9007, device='cuda:0', grad_fn=<DivBackward0>)\n",
            "Test Accuracy:: tensor(50.0098, device='cuda:0', grad_fn=<DivBackward0>)\n",
            "Epoch: 173 | Loss: 0.0022\n",
            "Acc:: tensor(50.9455, device='cuda:0', grad_fn=<DivBackward0>)\n",
            "Test Accuracy:: tensor(54.8927, device='cuda:0', grad_fn=<DivBackward0>)\n",
            "Epoch: 174 | Loss: 0.0022\n",
            "Acc:: tensor(109.0304, device='cuda:0', grad_fn=<DivBackward0>)\n",
            "Test Accuracy:: tensor(51.8869, device='cuda:0', grad_fn=<DivBackward0>)\n",
            "Epoch: 175 | Loss: 0.0022\n",
            "Acc:: tensor(48.0039, device='cuda:0', grad_fn=<DivBackward0>)\n",
            "Test Accuracy:: tensor(63.7593, device='cuda:0', grad_fn=<DivBackward0>)\n",
            "Epoch: 176 | Loss: 0.0022\n",
            "Acc:: tensor(56.0520, device='cuda:0', grad_fn=<DivBackward0>)\n",
            "Test Accuracy:: tensor(61.1566, device='cuda:0', grad_fn=<DivBackward0>)\n",
            "Epoch: 177 | Loss: 0.0022\n",
            "Acc:: tensor(55.7870, device='cuda:0', grad_fn=<DivBackward0>)\n",
            "Test Accuracy:: tensor(48.0416, device='cuda:0', grad_fn=<DivBackward0>)\n",
            "Epoch: 178 | Loss: 0.0022\n",
            "Acc:: tensor(46.8416, device='cuda:0', grad_fn=<DivBackward0>)\n",
            "Test Accuracy:: tensor(82.1166, device='cuda:0', grad_fn=<DivBackward0>)\n",
            "Epoch: 179 | Loss: 0.0022\n",
            "Acc:: tensor(61.2407, device='cuda:0', grad_fn=<DivBackward0>)\n",
            "Test Accuracy:: tensor(66.0682, device='cuda:0', grad_fn=<DivBackward0>)\n",
            "Epoch: 180 | Loss: 0.0022\n",
            "Acc:: tensor(68.2819, device='cuda:0', grad_fn=<DivBackward0>)\n",
            "Test Accuracy:: tensor(56.0331, device='cuda:0', grad_fn=<DivBackward0>)\n",
            "Epoch: 181 | Loss: 0.0022\n",
            "Acc:: tensor(76.0472, device='cuda:0', grad_fn=<DivBackward0>)\n",
            "Test Accuracy:: tensor(50.4909, device='cuda:0', grad_fn=<DivBackward0>)\n",
            "Epoch: 182 | Loss: 0.0022\n",
            "Acc:: tensor(60.3817, device='cuda:0', grad_fn=<DivBackward0>)\n",
            "Test Accuracy:: tensor(168.0871, device='cuda:0', grad_fn=<DivBackward0>)\n",
            "Epoch: 183 | Loss: 0.0022\n",
            "Acc:: tensor(49.4733, device='cuda:0', grad_fn=<DivBackward0>)\n",
            "Test Accuracy:: tensor(50.4775, device='cuda:0', grad_fn=<DivBackward0>)\n",
            "Epoch: 184 | Loss: 0.0022\n",
            "Acc:: tensor(61.6869, device='cuda:0', grad_fn=<DivBackward0>)\n",
            "Test Accuracy:: tensor(50.0198, device='cuda:0', grad_fn=<DivBackward0>)\n",
            "Epoch: 185 | Loss: 0.0022\n",
            "Acc:: tensor(63.8646, device='cuda:0', grad_fn=<DivBackward0>)\n",
            "Test Accuracy:: tensor(60.8323, device='cuda:0', grad_fn=<DivBackward0>)\n",
            "Epoch: 186 | Loss: 0.0022\n",
            "Acc:: tensor(39.4742, device='cuda:0', grad_fn=<DivBackward0>)\n",
            "Test Accuracy:: tensor(52.8168, device='cuda:0', grad_fn=<DivBackward0>)\n",
            "Epoch: 187 | Loss: 0.0022\n",
            "Acc:: tensor(48.7464, device='cuda:0', grad_fn=<DivBackward0>)\n",
            "Test Accuracy:: tensor(60.4866, device='cuda:0', grad_fn=<DivBackward0>)\n",
            "Epoch: 188 | Loss: 0.0022\n",
            "Acc:: tensor(247.9793, device='cuda:0', grad_fn=<DivBackward0>)\n",
            "Test Accuracy:: tensor(63.7929, device='cuda:0', grad_fn=<DivBackward0>)\n",
            "Epoch: 189 | Loss: 0.0022\n",
            "Acc:: tensor(59.8288, device='cuda:0', grad_fn=<DivBackward0>)\n",
            "Test Accuracy:: tensor(54.3571, device='cuda:0', grad_fn=<DivBackward0>)\n",
            "Epoch: 190 | Loss: 0.0022\n",
            "Acc:: tensor(53.4632, device='cuda:0', grad_fn=<DivBackward0>)\n",
            "Test Accuracy:: tensor(53.2924, device='cuda:0', grad_fn=<DivBackward0>)\n",
            "Epoch: 191 | Loss: 0.0022\n",
            "Acc:: tensor(47.0532, device='cuda:0', grad_fn=<DivBackward0>)\n",
            "Test Accuracy:: tensor(57.2791, device='cuda:0', grad_fn=<DivBackward0>)\n",
            "Epoch: 192 | Loss: 0.0022\n",
            "Acc:: tensor(42.2343, device='cuda:0', grad_fn=<DivBackward0>)\n",
            "Test Accuracy:: tensor(54.5117, device='cuda:0', grad_fn=<DivBackward0>)\n",
            "Epoch: 193 | Loss: 0.0022\n",
            "Acc:: tensor(48.4247, device='cuda:0', grad_fn=<DivBackward0>)\n",
            "Test Accuracy:: tensor(71.0862, device='cuda:0', grad_fn=<DivBackward0>)\n",
            "Epoch: 194 | Loss: 0.0022\n",
            "Acc:: tensor(49.1024, device='cuda:0', grad_fn=<DivBackward0>)\n",
            "Test Accuracy:: tensor(45.8409, device='cuda:0', grad_fn=<DivBackward0>)\n",
            "Epoch: 195 | Loss: 0.0022\n",
            "Acc:: tensor(46.3971, device='cuda:0', grad_fn=<DivBackward0>)\n",
            "Test Accuracy:: tensor(96.8264, device='cuda:0', grad_fn=<DivBackward0>)\n",
            "Epoch: 196 | Loss: 0.0022\n",
            "Acc:: tensor(60.1531, device='cuda:0', grad_fn=<DivBackward0>)\n",
            "Test Accuracy:: tensor(55.8504, device='cuda:0', grad_fn=<DivBackward0>)\n",
            "Epoch: 197 | Loss: 0.0022\n",
            "Acc:: tensor(46.5244, device='cuda:0', grad_fn=<DivBackward0>)\n",
            "Test Accuracy:: tensor(49.4592, device='cuda:0', grad_fn=<DivBackward0>)\n",
            "Epoch: 198 | Loss: 0.0022\n",
            "Acc:: tensor(62.7445, device='cuda:0', grad_fn=<DivBackward0>)\n",
            "Test Accuracy:: tensor(53.9599, device='cuda:0', grad_fn=<DivBackward0>)\n",
            "Epoch: 199 | Loss: 0.0022\n",
            "Acc:: tensor(55.4180, device='cuda:0', grad_fn=<DivBackward0>)\n",
            "Test Accuracy:: tensor(52.6679, device='cuda:0', grad_fn=<DivBackward0>)\n"
          ]
        }
      ]
    },
    {
      "cell_type": "markdown",
      "metadata": {
        "id": "QuZxfQc1UIU-"
      },
      "source": [
        "computation of the accuracy on the testing dataset to see how well the model performs"
      ]
    },
    {
      "cell_type": "code",
      "metadata": {
        "id": "YU5WR0BTUHv1"
      },
      "source": [
        "torch.save(model, 'model_cnn_to_sensors-eroad_final.pth')\n",
        "\n",
        "test_acc = 0.0\n",
        "for i, (images, labels) in enumerate(test_loader, 0):\n",
        "    images = images.to(device)\n",
        "    labels = labels.to(device)\n",
        "    outputs = model(images)\n",
        "    test_acc += get_percentage_diff(labels, outputs, batch_size)\n",
        "    print('Example:: ', i)\n",
        "    print(labels[i])\n",
        "    print(outputs[i])\n",
        "        \n",
        "print('Test Accuracy: %.2f'%( test_acc/i))"
      ],
      "execution_count": null,
      "outputs": []
    }
  ]
}